{
 "cells": [
  {
   "cell_type": "code",
   "execution_count": null,
   "id": "bb6c4728",
   "metadata": {},
   "outputs": [],
   "source": [
    "import PySimpleGUI as sg\n",
    "sg.theme('DarkTeal9')\n",
    "layout = [\n",
    "    [sg.Text('Arquivamento')],\n",
    "    [sg.Text('Tab', size=(15,1)), sg.InputText(key='Tab')], \n",
    "    [sg.Text('Caixa', size=(15,1)), sg.InputText(key='Caixa')],\n",
    "    [sg.Text('Copiar 33', size=(15,1)), sg.InputText(key='Copiar 33')],  \n",
    "    [sg.Text('Tab', size=(15,1)), sg.Combo(['Automático'], key='Automático')],\n",
    "    [sg.Text('Copiar 86/87', size=(15,1)), sg.InputText(key='Copiar 86/87')], \n",
    "    [sg.Text('Tab', size=(15,1)), sg.Combo(['Automático'], key='Tipo Documental')],\n",
    "    [sg.Text('Tab', size=(15,1)), sg.InputText(key='automatico')],\n",
    "    [sg.Text('Tab', size=(15,1)), sg.Combo(['Automático'], key='Automático')],\n",
    "    [sg.Text('Copiar Data', size=(15,1)), sg.InputText(key='Copiar Data')], \n",
    "    [sg.Text('Tab', size=(15,1)), sg.Combo(['Automático'], key='Prescrição')],\n",
    "    \n",
    "    [sg.Text('Tab', size=(15,1)), sg.InputText(key='Tab')],\n",
    "    [sg.HorizontalSeparator()],\n",
    "    \n",
    "    [sg.Text('Observação1', size=(10,1)), sg.InputText(key='Observação1')],\n",
    "    [sg.Text('Observação2', size=(10,1)), sg.InputText(key='Observação2')],\n",
    "    [sg.Text('Observação3', size=(10,1)), sg.InputText(key='Observação3')],\n",
    "    [sg.Text('Observação4', size=(10,1)), sg.InputText(key='Observação4')],\n",
    "    [sg.Text('Observação5', size=(10,1)), sg.InputText(key='Observação5')],\n",
    "    [sg.Text('Observação6', size=(10,1)), sg.InputText(key='Observação6')],\n",
    "    [sg.Text('Observação7', size=(10,1)), sg.InputText(key='Observação7')],\n",
    "    \n",
    "    [sg.HorizontalSeparator()],\n",
    "            [sg.Submit(), sg.Button('Clear'), sg.Button('Busca por Cooperado'), sg.Exit()]\n",
    "]\n",
    "window = sg.Window('Simple data entry form', layout)\n",
    "def clear_input():\n",
    "    for key in values:\n",
    "        window[key]('')\n",
    "    return None\n",
    "while True:\n",
    "    event, values = window.read()\n",
    "    if event == sg.WINDOW_CLOSED or event == 'Exit':\n",
    "        break\n",
    "    if event =='Clear':\n",
    "        clear_input()\n",
    "    if event =='Busca por fornecedor':\n",
    "        df_tmp = df[df['Fornecedor']==values['Busca_fornecedor']]\n",
    "        window['Fornecedor'](df_tmp['Fornecedor'].iloc[0])\n",
    "        window['Numero do Documento'](df_tmp['Numero do Documento'].iloc[0])\n",
    "    if event == 'Submit':\n",
    "        values.pop('Busca_fornecedor')\n",
    "        df = df.append(values, ignore_index=True)\n",
    "        df.to_excel(EXCEL_FILE, index=False)\n",
    "        sg.popup('Data Saved!')\n",
    "        clear_input()\n",
    "window.close()"
   ]
  },
  {
   "cell_type": "code",
   "execution_count": 72,
   "id": "6baa89ed",
   "metadata": {},
   "outputs": [],
   "source": [
    "#import pandas as pd"
   ]
  },
  {
   "cell_type": "code",
   "execution_count": 73,
   "id": "3f599570",
   "metadata": {},
   "outputs": [
    {
     "data": {
      "text/plain": [
       "'DarkTeal9'"
      ]
     },
     "execution_count": 73,
     "metadata": {},
     "output_type": "execute_result"
    }
   ],
   "source": [
    "#Adicionar cor na janela\n",
    "sg.theme('DarkTeal9')"
   ]
  },
  {
   "cell_type": "code",
   "execution_count": 74,
   "id": "1d455a10",
   "metadata": {},
   "outputs": [],
   "source": [
    "#EXCEL_FILE ='C:/Francine/Python/Data_Entry.xls'"
   ]
  },
  {
   "cell_type": "code",
   "execution_count": 75,
   "id": "c9b4bdef",
   "metadata": {},
   "outputs": [],
   "source": [
    "#df = pd.read_excel(EXCEL_FILE)"
   ]
  },
  {
   "cell_type": "code",
   "execution_count": 76,
   "id": "9be9ad76",
   "metadata": {},
   "outputs": [],
   "source": [
    "layout = [\n",
    "    [sg.Text('Arquivamento')],\n",
    "    [sg.Text('automatico', size=(15,1)), sg.InputText(key='automatico')], \n",
    "    [sg.Text('Identificação', size=(15,1)), sg.InputText(key='Identificação')],\n",
    "    [sg.Text('Copiar 33', size=(15,1)), sg.InputText(key='Copiar 33')],  \n",
    "    [sg.Text('Centro de Crusto', size=(15,1)), sg.Combo(['Automático'], key='Automático')],\n",
    "    [sg.Text('Copiar 86/87', size=(15,1)), sg.InputText(key='Copiar 86/87')], \n",
    "    [sg.Text('Tipo Documental', size=(15,1)), sg.Combo(['Automático'], key='Tipo Documental')],\n",
    "    [sg.Text('automatico', size=(15,1)), sg.InputText(key='automatico')],\n",
    "    [sg.Text('Assunto', size=(15,1)), sg.Combo(['Automático'], key='Automático')],\n",
    "    [sg.Text('Copiar Data', size=(15,1)), sg.InputText(key='Copiar Data')], \n",
    "    [sg.Text('Prescrição', size=(15,1)), sg.Combo(['Automático'], key='Prescrição')],\n",
    "    \n",
    "    [sg.Text('Descrição Complementar', size=(10,1)), sg.InputText(key='Descrição Complementar')],\n",
    "    [sg.HorizontalSeparator()],\n",
    "    \n",
    "    [sg.Text('Observação', size=(10,1)), sg.InputText(key='Observação'),\n",
    "],    \n",
    "    \n",
    "    [sg.HorizontalSeparator()],\n",
    "            [sg.Submit(), sg.Button('Clear'), sg.Button('Busca por Cooperado'), sg.Exit()]\n",
    "]"
   ]
  },
  {
   "cell_type": "code",
   "execution_count": 77,
   "id": "e32526e3",
   "metadata": {},
   "outputs": [],
   "source": [
    "window = sg.Window('Simple data entry form', layout)"
   ]
  },
  {
   "cell_type": "code",
   "execution_count": 78,
   "id": "c014fe77",
   "metadata": {},
   "outputs": [],
   "source": [
    "def clear_input():\n",
    "    for key in values:\n",
    "        window[key]('')\n",
    "    return None"
   ]
  },
  {
   "cell_type": "code",
   "execution_count": 79,
   "id": "10f4cd81",
   "metadata": {},
   "outputs": [],
   "source": [
    "while True:\n",
    "    event, values = window.read()\n",
    "    if event == sg.WINDOW_CLOSED or event == 'Exit':\n",
    "        break\n",
    "    if event =='Clear':\n",
    "        clear_input()\n",
    "    if event =='Busca por fornecedor':\n",
    "        df_tmp = df[df['Fornecedor']==values['Busca_fornecedor']]\n",
    "        window['Fornecedor'](df_tmp['Fornecedor'].iloc[0])\n",
    "        window['Numero do Documento'](df_tmp['Numero do Documento'].iloc[0])\n",
    "    if event == 'Submit':\n",
    "        values.pop('Busca_fornecedor')\n",
    "        df = df.append(values, ignore_index=True)\n",
    "        df.to_excel(EXCEL_FILE, index=False)\n",
    "        sg.popup('Data Saved!')\n",
    "        clear_input()\n",
    "window.close()"
   ]
  }
 ],
 "metadata": {
  "kernelspec": {
   "display_name": "Python 3 (ipykernel)",
   "language": "python",
   "name": "python3"
  },
  "language_info": {
   "codemirror_mode": {
    "name": "ipython",
    "version": 3
   },
   "file_extension": ".py",
   "mimetype": "text/x-python",
   "name": "python",
   "nbconvert_exporter": "python",
   "pygments_lexer": "ipython3",
   "version": "3.9.7"
  }
 },
 "nbformat": 4,
 "nbformat_minor": 5
}
